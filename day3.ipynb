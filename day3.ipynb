{
 "cells": [
  {
   "cell_type": "code",
   "execution_count": null,
   "id": "7a6a4a64",
   "metadata": {},
   "outputs": [
    {
     "name": "stdout",
     "output_type": "stream",
     "text": [
      "[2, 3, 5, 7, 11, 13, 17, 19]\n"
     ]
    }
   ],
   "source": [
    "# 1.⁠ ⁠Prime Number Finder\n",
    "#    * Function that returns all prime numbers up to ⁠ n ⁠.\n",
    "#    * Input: ⁠ n = 20 ⁠\n",
    "#    * Output: ⁠ [2, 3, 5, 7, 11, 13, 17, 19] ⁠\n",
    "\n",
    "\n",
    "def prime(n):\n",
    "    primel=[]\n",
    "    for i in range(1,n):\n",
    "        c=0\n",
    "        for j in range (1,i+1):\n",
    "            if i%j==0:\n",
    "                c=c+1\n",
    "        if c==2:\n",
    "            primel.append(i) \n",
    "    return primel   \n",
    "n=int(input())\n",
    "print(prime(n))"
   ]
  },
  {
   "cell_type": "code",
   "execution_count": 12,
   "id": "ddc7fd1f",
   "metadata": {},
   "outputs": [
    {
     "name": "stdout",
     "output_type": "stream",
     "text": [
      "neveroddoreven\n",
      "neveroddoreven\n",
      "True\n"
     ]
    }
   ],
   "source": [
    "# 2.⁠ ⁠Palindrome Checker\n",
    "#    * Check if a string is palindrome (ignoring spaces & case).\n",
    "#    * Input: ⁠ \"Never odd or even\" ⁠\n",
    "#    * Output: ⁠ True ⁠\n",
    " \n",
    "str1=input()\n",
    "str1=str1.replace(\" \",\"\")\n",
    "streverse=str1[::-1]\n",
    "print(streverse)\n",
    "print(str1)\n",
    "if str1.lower()==streverse.lower():\n",
    "    print(\"True\")\n",
    "else:\n",
    "    print(\"False\")\n",
    "\n"
   ]
  },
  {
   "cell_type": "code",
   "execution_count": 18,
   "id": "13199eb3",
   "metadata": {},
   "outputs": [
    {
     "name": "stdout",
     "output_type": "stream",
     "text": [
      "True\n"
     ]
    }
   ],
   "source": [
    "# 3.⁠ ⁠Anagram Checker\n",
    "#    * Function checks if two words are anagrams.\n",
    "#    * Input: ⁠ \"listen\", \"silent\" ⁠\n",
    "#    * Output: ⁠ True ⁠\n",
    "s1=input()\n",
    "s2=input()\n",
    "def anagram(s1,s2):\n",
    "   ss1=\"\".join(sorted(s1))\n",
    "   ss2=\"\".join(sorted(s2))\n",
    "   if ss1==ss2:\n",
    "      return True\n",
    "   else:\n",
    "      return False\n",
    "print(anagram(s1,s2))"
   ]
  },
  {
   "cell_type": "code",
   "execution_count": null,
   "id": "8bfd5db3",
   "metadata": {},
   "outputs": [
    {
     "name": "stdout",
     "output_type": "stream",
     "text": [
      "Vowels = 2,Consonants = 3\n"
     ]
    }
   ],
   "source": [
    "# 4.Count Vowels & Consonants\n",
    "#    * Return count of vowels & consonants.\n",
    "#    * Input: ⁠ \"hello\" ⁠\n",
    "#    * Output: ⁠ Vowels=2, Consonants=3 ⁠\n",
    "a=input()\n",
    "vc=0\n",
    "vw=0\n",
    "for i in a:\n",
    "    if(i=='a' or i=='e' or i=='o' or i=='u' or i=='i'):\n",
    "        vc=vc+1\n",
    "    elif((i>='a' and i<='z' )or (i>='A' and i<='Z') ):\n",
    "        vw=vw+1\n",
    "print(f\"Vowels = {vc}, Consonants = { vw}\")\n"
   ]
  },
  {
   "cell_type": "code",
   "execution_count": 33,
   "id": "1b34130d",
   "metadata": {},
   "outputs": [
    {
     "name": "stdout",
     "output_type": "stream",
     "text": [
      "amazing\n"
     ]
    }
   ],
   "source": [
    "# 5⁠ ⁠Longest Word Finder\n",
    "# •⁠  ⁠Return longest word in a sentence.\n",
    "# •⁠  ⁠Input: ⁠ \"Python is amazing\" ⁠\n",
    "# •⁠  ⁠Output: ⁠ \"amazing\".\n",
    "finder=input().split(\" \")\n",
    "def longest_string(finder):\n",
    "   max=\"\"\n",
    "   for i in finder:\n",
    "       if len(i)>len(max):\n",
    "           max=i\n",
    "   return max       \n",
    "\n",
    "print(longest_string(finder))"
   ]
  },
  {
   "cell_type": "code",
   "execution_count": null,
   "id": "ac7b153d",
   "metadata": {},
   "outputs": [
    {
     "name": "stdout",
     "output_type": "stream",
     "text": [
      "Zee&X.\n"
     ]
    }
   ],
   "source": [
    " \n",
    "# 1.⁠ ⁠Random Password Generator (⁠ random ⁠, ⁠ string ⁠)\n",
    "# •⁠  ⁠Input: ⁠ length=6 ⁠\n",
    "# •⁠  ⁠Output: ⁠ \"aB9@xQ\" ⁠\n",
    "\n",
    "import random\n",
    "import string\n",
    "\n",
    "n=int(input(\"enter the length\"))\n",
    "random_pass=''.join(random.choice(string.ascii_letters + string.digits + string.punctuation) for _ in range(n))\n",
    "print(random_pass)"
   ]
  },
  {
   "cell_type": "code",
   "execution_count": null,
   "id": "f6431efe",
   "metadata": {},
   "outputs": [
    {
     "name": "stdout",
     "output_type": "stream",
     "text": [
      "sqrt(5)=2.23606797749979\n",
      "factorial(5)=120\n",
      "sin(5)=-0.9589242746631385\n",
      "cos(5)=0.28366218546322625\n"
     ]
    }
   ],
   "source": [
    "\n",
    "# 2.⁠ ⁠Simple Calculator with ⁠ math ⁠\n",
    "# •⁠  ⁠Perform sqrt, factorial, sin, cos.\n",
    "# •⁠  ⁠Input: ⁠ sqrt(25) ⁠\n",
    "# •⁠  ⁠Output: ⁠ 5.0 ⁠\n",
    "\n",
    "import math\n",
    "n=int(input())\n",
    "print(f\"sqrt({n})={math.sqrt(n)}\")\n",
    "print(f\"factorial({n})={math.factorial(n)}\")\n",
    "print(f\"sin({n})={math.sin(n)}\")\n",
    "print(f\"cos({n})={math.cos(n)}\")"
   ]
  },
  {
   "cell_type": "code",
   "execution_count": null,
   "id": "45ab729f",
   "metadata": {},
   "outputs": [
    {
     "name": "stdout",
     "output_type": "stream",
     "text": [
      "{'cat': 2, 'dog': 1}\n"
     ]
    }
   ],
   "source": [
    "# 3.  ⁠Input: ⁠ \"cat dog cat\" ⁠\n",
    "# •⁠  ⁠Output: ⁠ {'cat':2,'dog':1} ⁠\n",
    "\n",
    "collection=input().split(\" \")\n",
    "dict={}\n",
    "for i in collection:\n",
    "    if i in dict :\n",
    "        dict[i]=dict[i]+1\n",
    "    else:\n",
    "        dict[i]=1\n",
    "print(dict)\n"
   ]
  },
  {
   "cell_type": "code",
   "execution_count": null,
   "id": "f0a8279d",
   "metadata": {},
   "outputs": [
    {
     "name": "stdout",
     "output_type": "stream",
     "text": [
      "Weather:Cold,Temp:24 DC\n"
     ]
    }
   ],
   "source": [
    "# 4.⁠ ⁠Weather Simulator (⁠ random ⁠)\n",
    "# •⁠  ⁠Input: None\n",
    "# •⁠  ⁠Output: ⁠ \"Weather: Sunny, Temp: 32°C\" ⁠\n",
    "\n",
    "def randomweather():\n",
    "     l1=['Sunny','Rainy','Cold']\n",
    "     print(f\"Weather:{ random.choice(l1)},Temp:{ random.randint(0,50)} DC\")\n",
    "randomweather()"
   ]
  },
  {
   "cell_type": "code",
   "execution_count": null,
   "id": "9c24626f",
   "metadata": {},
   "outputs": [
    {
     "name": "stdout",
     "output_type": "stream",
     "text": [
      "5\n",
      "4\n",
      "3\n",
      "2\n",
      "1\n",
      "Time's up\n"
     ]
    }
   ],
   "source": [
    "# 5.⁠ ⁠Timer Program (⁠ time ⁠)\n",
    "# •⁠  ⁠Input: ⁠ countdown(5) ⁠\n",
    "# •⁠  ⁠Output:\n",
    "# ⁠   5  \n",
    "#   4  \n",
    "#   3  \n",
    "#   2  \n",
    "#   1  \n",
    "#   Time’s up!\n",
    "\n",
    "import time\n",
    "def countdown(n):\n",
    "    while(n>0):\n",
    "        time.sleep(1)\n",
    "        print(n)\n",
    "        n=n-1\n",
    "    print(\"Time's up\")\n",
    "n=int(input())\n",
    "countdown(n)"
   ]
  },
  {
   "cell_type": "code",
   "execution_count": 57,
   "id": "d7b7d171",
   "metadata": {},
   "outputs": [
    {
     "name": "stdout",
     "output_type": "stream",
     "text": [
      "current balance 900\n"
     ]
    }
   ],
   "source": [
    "class BankAccount:\n",
    "    def __init__(self,Amount):\n",
    "        self.currentbalance=Amount\n",
    "    def deposit(self,amount):\n",
    "        self.currentbalance=self.currentbalance+amount\n",
    "        # return self.currentbalance\n",
    "    def withdraw(self,amount):\n",
    "        if amount> self.currentbalance:\n",
    "            print(\"insufficient balance\")\n",
    "        else:\n",
    "            self.currentbalance=self.currentbalance-amount\n",
    "        # return self.currentbalance\n",
    "    def get_balance(self):\n",
    "        return self.currentbalance\n",
    "obj=BankAccount(1000)\n",
    "obj.deposit(200)\n",
    "obj.withdraw(300)\n",
    "print(\"current balance\",obj.get_balance())\n",
    "\n"
   ]
  },
  {
   "cell_type": "code",
   "execution_count": 1,
   "id": "15bcece6",
   "metadata": {},
   "outputs": [
    {
     "name": "stdout",
     "output_type": "stream",
     "text": [
      "85.0\n",
      "95\n",
      "80\n"
     ]
    }
   ],
   "source": [
    "# 2.⁠ ⁠Student Class with Average\n",
    "# Attributes:\n",
    "# •⁠  ⁠⁠ name ⁠ → student name\n",
    "# •⁠  ⁠⁠ marks ⁠ → list of student marks ⁠ [90, 80, 85] ⁠\n",
    "# Methods:\n",
    "# •⁠  ⁠⁠ get_average() ⁠ → returns average marks\n",
    "# •⁠  ⁠⁠ add_mark(mark) ⁠ → add new score\n",
    "# •⁠  ⁠⁠ get_highest() ⁠ → return highest mark\n",
    "# •⁠  ⁠⁠ get_lowest() ⁠ → return lowest mark\n",
    "# Example:\n",
    "# ⁠ python\n",
    "# s = Student(\"Tom\", [90, 80, 85])\n",
    "# print(s.get_average())   # (90+80+85)/3 = 85.0\n",
    "# s.add_mark(95)           # marks = [90,80,85,95]\n",
    "# print(s.get_highest())   # 95\n",
    "#  ⁠\n",
    "# Output:\n",
    "# 85.0\n",
    "# 95\n",
    "\n",
    "class Student:\n",
    "    def __init__(self,name,marks):\n",
    "        self.name=name\n",
    "        self.marks=marks\n",
    "    def get_average(self):\n",
    "        return sum(self.marks)/len(self.marks)\n",
    "    def add_mark(self,m):\n",
    "        self.marks.append(m)\n",
    "    def get_highest(self):\n",
    "        return max(self.marks)\n",
    "    def get_lowest(self):\n",
    "        return min(self.marks)\n",
    "    \n",
    "s=Student(\"Tom\",[90,80,85])\n",
    "print(s.get_average())\n",
    "s.add_mark(95)\n",
    "print(s.get_highest())\n",
    "print(s.get_lowest())\n",
    "\n"
   ]
  },
  {
   "cell_type": "code",
   "execution_count": 2,
   "id": "f5693979",
   "metadata": {},
   "outputs": [
    {
     "name": "stdout",
     "output_type": "stream",
     "text": [
      "10000.0\n"
     ]
    }
   ],
   "source": [
    "# 3.⁠ ⁠Employee Bonus System\n",
    "# Attributes:\n",
    "# •⁠  ⁠⁠ name ⁠ → employee name\n",
    "# •⁠  ⁠⁠ salary ⁠ → base salary\n",
    "# •⁠  ⁠⁠ role ⁠ → role of employee (e.g., Manager, Developer, Intern)\n",
    "# Methods:\n",
    "# •⁠  ⁠⁠ bonus() ⁠ → calculates bonus depending on role:\n",
    "#   * Manager → 20% of salary\n",
    "#   * Developer → 10% of salary\n",
    "#   * Intern → 5% of salary\n",
    "# Example:\n",
    "# ⁠ python\n",
    "# m = Manager(\"Alice\", 50000)\n",
    "# print(m.bonus()) \n",
    "# Output:\n",
    "# 10000\n",
    "\n",
    "class Employee:\n",
    "    def __init__(self,name,salary,role):\n",
    "        self.name=name\n",
    "        self.salary=salary\n",
    "        self.role=role\n",
    "    def bonus(self):\n",
    "        if self.role.lower()=='manager':\n",
    "            return (self.salary * 20/100)\n",
    "        elif self.role.lower()=='developer':\n",
    "            return (self.salary * 10/100)\n",
    "        elif self.role.lower()=='intern':\n",
    "            return (self.salary * 5/100)\n",
    "    \n",
    "e=Employee(\"Alice\",50000,\"manager\")\n",
    "print(e.bonus()) "
   ]
  },
  {
   "cell_type": "code",
   "execution_count": 4,
   "id": "928d0fbc",
   "metadata": {},
   "outputs": [
    {
     "name": "stdout",
     "output_type": "stream",
     "text": [
      "153.94\n",
      "20\n"
     ]
    }
   ],
   "source": [
    "# 4.⁠ ⁠Shape Area Calculator\n",
    "# Base Class (Shape):\n",
    "# *Attribute: ⁠ name ⁠\n",
    "# *Method: ⁠ area() ⁠ → to be overridden by subclasses\n",
    "# Subclasses:\n",
    "# •⁠  ⁠⁠ Circle(radius) ⁠ → area = π × r²\n",
    "# •⁠  ⁠⁠ Rectangle(width, height) ⁠ → area = width × height\n",
    "# Example:\n",
    "# ⁠ python\n",
    "# c = Circle(7)\n",
    "# print(c.area())\n",
    "# r = Rectangle(4, 5)\n",
    "# print(r.area())\n",
    "# Output:\n",
    "# 153.94\n",
    "# 20\n",
    "import math\n",
    "class Shape:\n",
    "    def __init__(self,name):\n",
    "        self.name=name\n",
    "    def area(self):\n",
    "        pass\n",
    "class Circle(Shape):\n",
    "    def __init__(self, radius):\n",
    "        self.radius=radius\n",
    "    def area(self):\n",
    "        return round(math.pi*self.radius**2,2)\n",
    "class Rectangle(Shape):\n",
    "    def __init__(self, length,width):\n",
    "        self.length=length\n",
    "        self.width=width\n",
    "    def area(self):\n",
    "        return self.length*self.width\n",
    "c = Circle(7)\n",
    "print(c.area())\n",
    "r = Rectangle(4, 5)\n",
    "print(r.area())\n",
    "\n",
    "    \n",
    "\n"
   ]
  },
  {
   "cell_type": "code",
   "execution_count": 6,
   "id": "eba125a0",
   "metadata": {},
   "outputs": [
    {
     "name": "stdout",
     "output_type": "stream",
     "text": [
      "2000\n"
     ]
    }
   ],
   "source": [
    "# 5.⁠ ⁠E-commerce Order Class \n",
    "# Attributes:\n",
    "# •⁠  ⁠⁠ items ⁠ → dictionary of items ⁠ {name: price} ⁠\n",
    "# Methods:\n",
    "# •⁠  ⁠⁠ add(item, price) ⁠ → adds an item to order\n",
    "# •⁠  ⁠⁠ remove(item) ⁠ → removes item\n",
    "# •⁠  ⁠⁠ calculate_total() ⁠ → returns total price of all items\n",
    "# •⁠  ⁠⁠ show_items() ⁠ → lists all items in order\n",
    "# Example:\n",
    "# ⁠ python\n",
    "# order = Order()\n",
    "# order.add(\"Shirt\", 500)\n",
    "# order.add(\"Shoes\", 1500)\n",
    "# print(order.calculate_total())\n",
    "# Output:\n",
    "# Total = 2000\n",
    "class E_commerce:\n",
    "    def __init__(self):\n",
    "        self.items=eval(input(\"Enter a dictionary: \"))\n",
    "    def add(self,item,price):\n",
    "        self.items[item]=price\n",
    "    def remove(self,item):\n",
    "        self.items.pop(item)\n",
    "    def calculate_total(self):\n",
    "        return sum(self.items.values())\n",
    "    def show_items(self):\n",
    "        print(self.items)\n",
    "\n",
    "order = E_commerce()\n",
    "order.add(\"Shirt\", 500)\n",
    "order.add(\"Shoes\", 1500)\n",
    "print(order.calculate_total())\n",
    " "
   ]
  },
  {
   "cell_type": "code",
   "execution_count": 6,
   "id": "313441a6",
   "metadata": {},
   "outputs": [
    {
     "name": "stdout",
     "output_type": "stream",
     "text": [
      "[0, 1, 1, 2, 3, 5, 8]\n"
     ]
    }
   ],
   "source": [
    "# 1.⁠ ⁠Fibonacci Generator\n",
    "# •⁠  ⁠Function generates ⁠ n ⁠ Fibonacci numbers.\n",
    "# •⁠  ⁠Input: ⁠ n = 7 ⁠\n",
    "# •⁠  ⁠Output: ⁠ [0, 1, 1, 2, 3, 5, 8] ⁠\n",
    "def fibonacci(n):\n",
    "      s1=0\n",
    "      s2=1\n",
    "      l=[s1,s2]\n",
    "      while(n>2):\n",
    "            s3=s1+s2\n",
    "            s1=s2\n",
    "            s2=s3\n",
    "            l.append(s3)\n",
    "            n=n-1\n",
    "      print(l)\n",
    "fibonacci(7)"
   ]
  },
  {
   "cell_type": "code",
   "execution_count": 7,
   "id": "1fa1b364",
   "metadata": {},
   "outputs": [
    {
     "data": {
      "text/plain": [
       "120"
      ]
     },
     "execution_count": 7,
     "metadata": {},
     "output_type": "execute_result"
    }
   ],
   "source": [
    "# 2.Factorial Using Recursion\n",
    "# •⁠  ⁠Compute factorial using recursion.\n",
    "# •⁠  ⁠Input: ⁠ 5 ⁠\n",
    "# •⁠  ⁠Output: ⁠ 120 ⁠\n",
    "def factorial(n):\n",
    "    if n==0:\n",
    "        return 1\n",
    "    else:\n",
    "        return n*factorial(n-1)\n",
    "factorial(5)"
   ]
  },
  {
   "cell_type": "code",
   "execution_count": 10,
   "id": "52478760",
   "metadata": {},
   "outputs": [
    {
     "name": "stdout",
     "output_type": "stream",
     "text": [
      "{'apple': 2, 'banana': 2, 'orange': 1}\n"
     ]
    }
   ],
   "source": [
    "# 3.⁠ ⁠Unique Words Counter\n",
    "# •⁠  ⁠Return unique words in a sentence.\n",
    "# •⁠  ⁠Input: ⁠ \"apple banana apple orange banana\" ⁠\n",
    "# •⁠  ⁠Output: ⁠ {'apple':2,'banana':2,'orange':1} ⁠\n",
    " \n",
    "n=input().split()\n",
    "def unique(n):\n",
    "    d={}\n",
    "    for i in n:\n",
    "        if i not in d:\n",
    "            d[i]=1\n",
    "        else:\n",
    "            d[i]+=1\n",
    "    print(d)\n",
    "unique(n)"
   ]
  },
  {
   "cell_type": "code",
   "execution_count": 14,
   "id": "b293679a",
   "metadata": {},
   "outputs": [
    {
     "name": "stdout",
     "output_type": "stream",
     "text": [
      "Grade : A\n"
     ]
    }
   ],
   "source": [
    "# 4.⁠ ⁠Grade Calculator\n",
    "# •⁠  ⁠Function takes marks and returns grade.\n",
    "# •⁠  ⁠Input: ⁠ [85, 90, 78] ⁠\n",
    "# •⁠  ⁠Output: ⁠ \"Grade: A\" ⁠\n",
    " \n",
    "student_marks=eval(input(\"enter marks\"))\n",
    "avg=sum(student_marks)/len(student_marks)\n",
    "if avg>=80:\n",
    "    print(\"Grade : A\")\n",
    "elif avg>=60 and avg<80:\n",
    "    print(\"Grade : B\")\n",
    "elif avg>=40 and avg<60:\n",
    "    print(\"Grade : C\")\n",
    "else:\n",
    "    print(\"Fail\")\n"
   ]
  },
  {
   "cell_type": "code",
   "execution_count": 16,
   "id": "ff73e17a",
   "metadata": {},
   "outputs": [
    {
     "name": "stdout",
     "output_type": "stream",
     "text": [
      "Second Largest number is  10\n"
     ]
    }
   ],
   "source": [
    "# 5.⁠ ⁠Second Largest Number\n",
    "# •⁠  ⁠Return 2nd largest number from a list.\n",
    "# •⁠  ⁠Input: ⁠ [10, 5, 20, 8] \n",
    "# •⁠  ⁠Output: ⁠ 10 ⁠\n",
    "def secmax(nums):\n",
    "    max=nums[0]\n",
    "    max2=nums[0]\n",
    "    for i in nums:\n",
    "        if i>max:\n",
    "            max2=max\n",
    "            max=i\n",
    "        elif i>max2 and i!=max:\n",
    "            max2=nums[i]\n",
    "    return max2\n",
    "n=eval(input())\n",
    "print(\"Second Largest number is \",secmax(n))"
   ]
  }
 ],
 "metadata": {
  "kernelspec": {
   "display_name": "Python 3",
   "language": "python",
   "name": "python3"
  },
  "language_info": {
   "codemirror_mode": {
    "name": "ipython",
    "version": 3
   },
   "file_extension": ".py",
   "mimetype": "text/x-python",
   "name": "python",
   "nbconvert_exporter": "python",
   "pygments_lexer": "ipython3",
   "version": "3.11.13"
  }
 },
 "nbformat": 4,
 "nbformat_minor": 5
}
