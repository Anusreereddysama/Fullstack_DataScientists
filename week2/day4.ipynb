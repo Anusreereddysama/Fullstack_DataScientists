{
 "cells": [
  {
   "cell_type": "code",
   "execution_count": 1,
   "id": "d4b51a23",
   "metadata": {},
   "outputs": [
    {
     "name": "stdout",
     "output_type": "stream",
     "text": [
      "['good morning\\n', 'welcome to python programing\\n', 'working on coding']\n",
      "['good', 'morning']\n",
      "['welcome', 'to', 'python', 'programing']\n",
      "['working', 'on', 'coding']\n",
      "9\n"
     ]
    }
   ],
   "source": [
    "# 1.Given a text file, count the total number of words.\n",
    "f=open(\"file1.txt\",'r')\n",
    "lines=f.readlines()\n",
    "print(lines)\n",
    "c=0\n",
    "for i in lines:\n",
    "    c+=len(i.split(' '))\n",
    "    print(i.split())\n",
    "print(c)"
   ]
  },
  {
   "cell_type": "code",
   "execution_count": 2,
   "id": "c1113517",
   "metadata": {},
   "outputs": [
    {
     "name": "stdout",
     "output_type": "stream",
     "text": [
      "Strong Password\n"
     ]
    }
   ],
   "source": [
    "# 2.Write a program to check if a password is strong (at least 8 characters, contains uppercase, lowercase, digit, and special char).\n",
    "import re\n",
    "pas=input()\n",
    "if len(pas)>=8:\n",
    "    if re.search(r\"[A-Z]\",pas) and re.search(r\"[a-z]\",pas) and re.search(r\"[0-9]\",pas) and re.search(r\"[!@#$%^&*(),.?\\\":{}|<>]\", pas):\n",
    "        print(\"Strong Password\")\n",
    "    else:\n",
    "        print(\"Not a strong password\")\n",
    "        \n",
    "else:\n",
    "    print(\"Length should be atleast 8\")"
   ]
  },
  {
   "cell_type": "code",
   "execution_count": 3,
   "id": "767ac087",
   "metadata": {},
   "outputs": [
    {
     "name": "stdout",
     "output_type": "stream",
     "text": [
      "['ANu', 'Anu', 'Sanju', 'sanju'] {'sanju', 'Sanju', 'Anu', 'ANu'}\n"
     ]
    }
   ],
   "source": [
    "# 4.Given a list of student names, find duplicates.\n",
    "listname=eval(input())\n",
    "stu=set()\n",
    "for i in listname:\n",
    "    if i in stu:\n",
    "        print(i)\n",
    "    stu.add(i)\n",
    "print(listname,stu)"
   ]
  },
  {
   "cell_type": "code",
   "execution_count": 4,
   "id": "a83b8bd0",
   "metadata": {},
   "outputs": [
    {
     "name": "stdout",
     "output_type": "stream",
     "text": [
      "42.0\n"
     ]
    }
   ],
   "source": [
    "# 5.⁠ ⁠Problem: Calculate electricity bill:\n",
    "# First 100 units → ₹5/unit\n",
    "# Next 100 units → ₹7/unit\n",
    "# Above 200 units → ₹10/unit\n",
    "\n",
    "def elctricity_bill(u):\n",
    "    if u==100:\n",
    "        bill=5\n",
    "    elif u==200:\n",
    "        bill=5+7\n",
    "    elif u>200:\n",
    "        bill=5+7+((u-200)/100 * 10)\n",
    "    print(bill)\n",
    "elctricity_bill(int(input()))"
   ]
  },
  {
   "cell_type": "code",
   "execution_count": null,
   "id": "433d9a1a",
   "metadata": {},
   "outputs": [],
   "source": [
    "6.⁠ ⁠Problem: Sort a list of names in ascending order.\n"
   ]
  }
 ],
 "metadata": {
  "kernelspec": {
   "display_name": "Python 3",
   "language": "python",
   "name": "python3"
  },
  "language_info": {
   "codemirror_mode": {
    "name": "ipython",
    "version": 3
   },
   "file_extension": ".py",
   "mimetype": "text/x-python",
   "name": "python",
   "nbconvert_exporter": "python",
   "pygments_lexer": "ipython3",
   "version": "3.11.13"
  }
 },
 "nbformat": 4,
 "nbformat_minor": 5
}
