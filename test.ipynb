{
 "cells": [
  {
   "cell_type": "code",
   "execution_count": null,
   "id": "b3ff1b0e",
   "metadata": {},
   "outputs": [
    {
     "name": "stdout",
     "output_type": "stream",
     "text": [
      "5\n",
      "5\n"
     ]
    }
   ],
   "source": [
    "a=int(input())\n",
    "b=int(input())\n",
    "a,b=b,a\n",
    "print(a)\n",
    "\n",
    "print(b)"
   ]
  },
  {
   "cell_type": "code",
   "execution_count": 20,
   "id": "735c593a",
   "metadata": {},
   "outputs": [
    {
     "name": "stdout",
     "output_type": "stream",
     "text": [
      "no\n"
     ]
    }
   ],
   "source": [
    "arm=int(input())\n",
    "i=arm\n",
    "new=0\n",
    "while(i>0):\n",
    "    r=i%10\n",
    "    new=new+r*r*r\n",
    "    i=i/10\n",
    "if(new==i):\n",
    "    print(\"Armstrong Number\")\n",
    "else:\n",
    "    print(\"no\")"
   ]
  },
  {
   "cell_type": "code",
   "execution_count": 24,
   "id": "2b19c453",
   "metadata": {},
   "outputs": [
    {
     "name": "stdout",
     "output_type": "stream",
     "text": [
      "5 7\n"
     ]
    }
   ],
   "source": [
    "a=input()\n",
    "vc=0\n",
    "vw=0\n",
    "for i in a:\n",
    "    if(i=='a' or i=='e' or i=='o' or i=='u' or i=='i'):\n",
    "        vc=vc+1\n",
    "    elif((i>='a' and i<='z' )or (i>='A' and i<='Z') ):\n",
    "        vw=vw+1\n",
    "print(vc,vw)\n"
   ]
  },
  {
   "cell_type": "code",
   "execution_count": 30,
   "id": "4807abe9",
   "metadata": {},
   "outputs": [
    {
     "name": "stdout",
     "output_type": "stream",
     "text": [
      "5 x 1 = 5 \n",
      "5 x 2 = 10 \n",
      "5 x 3 = 15 \n",
      "5 x 4 = 20 \n",
      "5 x 5 = 25 \n",
      "5 x 6 = 30 \n",
      "5 x 7 = 35 \n",
      "5 x 8 = 40 \n",
      "5 x 9 = 45 \n",
      "5 x 10 = 50 \n"
     ]
    }
   ],
   "source": [
    "stn=int(input())\n",
    "for i in range(1,11):\n",
    "    print(\"%d x %d = %d \" %(stn,i,stn*i))"
   ]
  },
  {
   "cell_type": "code",
   "execution_count": 21,
   "id": "a87d7aca",
   "metadata": {},
   "outputs": [
    {
     "name": "stdout",
     "output_type": "stream",
     "text": [
      "uoiea"
     ]
    }
   ],
   "source": [
    "w=input()\n",
    "i=len(w)-1\n",
    "while(i>=0):\n",
    "    print(w[i] ,end=\"\")\n",
    "    i=i-1"
   ]
  },
  {
   "cell_type": "code",
   "execution_count": 31,
   "id": "0fddfd51",
   "metadata": {},
   "outputs": [
    {
     "name": "stdout",
     "output_type": "stream",
     "text": [
      "yes\n"
     ]
    }
   ],
   "source": [
    "lpy=int(input())\n",
    "if(lpy%4==0 and lpy%100!=0):\n",
    "    print(\"yes\")\n",
    "elif(lpy%400==0):\n",
    "    print(\"yes\")\n",
    "else:\n",
    "    print(\"no\")"
   ]
  },
  {
   "cell_type": "code",
   "execution_count": 43,
   "id": "ef62c8cb",
   "metadata": {},
   "outputs": [
    {
     "ename": "TypeError",
     "evalue": "sequence item 0: expected str instance, int found",
     "output_type": "error",
     "traceback": [
      "\u001b[31m---------------------------------------------------------------------------\u001b[39m",
      "\u001b[31mTypeError\u001b[39m                                 Traceback (most recent call last)",
      "\u001b[36mCell\u001b[39m\u001b[36m \u001b[39m\u001b[32mIn[43]\u001b[39m\u001b[32m, line 3\u001b[39m\n\u001b[32m      1\u001b[39m \u001b[38;5;28;01mimport\u001b[39;00m\u001b[38;5;250m \u001b[39m\u001b[34;01mnumpy\u001b[39;00m\u001b[38;5;250m \u001b[39m\u001b[38;5;28;01mas\u001b[39;00m\u001b[38;5;250m \u001b[39m\u001b[34;01mnp\u001b[39;00m\n\u001b[32m      2\u001b[39m a=\u001b[38;5;28mmap\u001b[39m(\u001b[38;5;28mint\u001b[39m,\u001b[38;5;28minput\u001b[39m().split())\n\u001b[32m----> \u001b[39m\u001b[32m3\u001b[39m nparr=np.array(\u001b[33;43m'\u001b[39;49m\u001b[33;43m'\u001b[39;49m\u001b[43m.\u001b[49m\u001b[43mjoin\u001b[49m\u001b[43m(\u001b[49m\u001b[43ma\u001b[49m\u001b[43m)\u001b[49m)\n\u001b[32m      4\u001b[39m \u001b[38;5;28mprint\u001b[39m(nparr)\n",
      "\u001b[31mTypeError\u001b[39m: sequence item 0: expected str instance, int found"
     ]
    }
   ],
   "source": [
    "import numpy as np\n",
    "a=map(int,input().split())\n",
    "nparr=np.array(''.join(a))\n",
    "print(nparr)\n"
   ]
  },
  {
   "cell_type": "code",
   "execution_count": null,
   "id": "dd2183f6",
   "metadata": {},
   "outputs": [],
   "source": [
    "a=list(map(int,input().split()))\n",
    "print(max(a))"
   ]
  },
  {
   "cell_type": "code",
   "execution_count": 50,
   "id": "f86b93a0",
   "metadata": {},
   "outputs": [
    {
     "name": "stdout",
     "output_type": "stream",
     "text": [
      "it is palindrome \n"
     ]
    }
   ],
   "source": [
    "a=input()\n",
    "s=reversed(a)\n",
    "s1=''.join(s)\n",
    "if s1==a:\n",
    "    print(\"it is palindrome \")\n",
    "else:\n",
    "    print(\"no\")\n"
   ]
  },
  {
   "cell_type": "code",
   "execution_count": 52,
   "id": "b1a83c3b",
   "metadata": {},
   "outputs": [
    {
     "data": {
      "text/plain": [
       "120"
      ]
     },
     "execution_count": 52,
     "metadata": {},
     "output_type": "execute_result"
    }
   ],
   "source": [
    "n=int(input())\n",
    "def factorial(n):\n",
    "    if n==0:\n",
    "        return 1\n",
    "    else:\n",
    "        return n*factorial(n-1)\n",
    "factorial(n)"
   ]
  },
  {
   "cell_type": "code",
   "execution_count": 54,
   "id": "978d9258",
   "metadata": {},
   "outputs": [
    {
     "name": "stdout",
     "output_type": "stream",
     "text": [
      "reward\n"
     ]
    }
   ],
   "source": [
    "num=int(input())\n",
    "if (num % 3==0 and num%5==0):\n",
    "    print(\"reward\")"
   ]
  }
 ],
 "metadata": {
  "kernelspec": {
   "display_name": "venv",
   "language": "python",
   "name": "python3"
  },
  "language_info": {
   "codemirror_mode": {
    "name": "ipython",
    "version": 3
   },
   "file_extension": ".py",
   "mimetype": "text/x-python",
   "name": "python",
   "nbconvert_exporter": "python",
   "pygments_lexer": "ipython3",
   "version": "3.11.0"
  }
 },
 "nbformat": 4,
 "nbformat_minor": 5
}
