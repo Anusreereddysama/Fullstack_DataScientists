{
 "cells": [
  {
   "cell_type": "code",
   "execution_count": 3,
   "id": "b3ff1b0e",
   "metadata": {},
   "outputs": [
    {
     "name": "stdout",
     "output_type": "stream",
     "text": [
      "3\n",
      "12\n"
     ]
    }
   ],
   "source": [
    "a=int(input())\n",
    "b=int(input())\n",
    "a,b=b,a\n",
    "print(a)\n",
    "\n",
    "print(b)"
   ]
  },
  {
   "cell_type": "code",
   "execution_count": 4,
   "id": "735c593a",
   "metadata": {},
   "outputs": [
    {
     "name": "stdout",
     "output_type": "stream",
     "text": [
      "no\n"
     ]
    }
   ],
   "source": [
    "arm=int(input())\n",
    "i=arm\n",
    "new=0\n",
    "while(i>0):\n",
    "    r=i%10\n",
    "    new=new+r*r*r\n",
    "    i=i/10\n",
    "if(new==i):\n",
    "    print(\"Armstrong Number\")\n",
    "else:\n",
    "    print(\"no\")"
   ]
  },
  {
   "cell_type": "code",
   "execution_count": 5,
   "id": "2b19c453",
   "metadata": {},
   "outputs": [
    {
     "name": "stdout",
     "output_type": "stream",
     "text": [
      "1 4\n"
     ]
    }
   ],
   "source": [
    "a=input()\n",
    "vc=0\n",
    "vw=0\n",
    "for i in a:\n",
    "    if(i=='a' or i=='e' or i=='o' or i=='u' or i=='i'):\n",
    "        vc=vc+1\n",
    "    elif((i>='a' and i<='z' )or (i>='A' and i<='Z') ):\n",
    "        vw=vw+1\n",
    "print(vc,vw)\n"
   ]
  },
  {
   "cell_type": "code",
   "execution_count": 6,
   "id": "4807abe9",
   "metadata": {},
   "outputs": [
    {
     "name": "stdout",
     "output_type": "stream",
     "text": [
      "4 x 1 = 4 \n",
      "4 x 2 = 8 \n",
      "4 x 3 = 12 \n",
      "4 x 4 = 16 \n",
      "4 x 5 = 20 \n",
      "4 x 6 = 24 \n",
      "4 x 7 = 28 \n",
      "4 x 8 = 32 \n",
      "4 x 9 = 36 \n",
      "4 x 10 = 40 \n"
     ]
    }
   ],
   "source": [
    "stn=int(input())\n",
    "for i in range(1,11):\n",
    "    print(\"%d x %d = %d \" %(stn,i,stn*i))"
   ]
  },
  {
   "cell_type": "code",
   "execution_count": 7,
   "id": "a87d7aca",
   "metadata": {},
   "outputs": [
    {
     "name": "stdout",
     "output_type": "stream",
     "text": [
      "eersuna"
     ]
    }
   ],
   "source": [
    "w=input()\n",
    "i=len(w)-1\n",
    "while(i>=0):\n",
    "    print(w[i] ,end=\"\")\n",
    "    i=i-1"
   ]
  },
  {
   "cell_type": "code",
   "execution_count": 8,
   "id": "0fddfd51",
   "metadata": {},
   "outputs": [
    {
     "name": "stdout",
     "output_type": "stream",
     "text": [
      "yes\n"
     ]
    }
   ],
   "source": [
    "lpy=int(input())\n",
    "if(lpy%4==0 and lpy%100!=0):\n",
    "    print(\"yes\")\n",
    "elif(lpy%400==0):\n",
    "    print(\"yes\")\n",
    "else:\n",
    "    print(\"no\")"
   ]
  },
  {
   "cell_type": "code",
   "execution_count": 9,
   "id": "dd2183f6",
   "metadata": {},
   "outputs": [
    {
     "name": "stdout",
     "output_type": "stream",
     "text": [
      "334\n"
     ]
    }
   ],
   "source": [
    "a=list(map(int,input().split()))\n",
    "print(max(a))"
   ]
  },
  {
   "cell_type": "code",
   "execution_count": 10,
   "id": "f86b93a0",
   "metadata": {},
   "outputs": [
    {
     "name": "stdout",
     "output_type": "stream",
     "text": [
      "no\n"
     ]
    }
   ],
   "source": [
    "a=input()\n",
    "s=reversed(a)\n",
    "s1=''.join(s)\n",
    "if s1==a:\n",
    "    print(\"it is palindrome \")\n",
    "else:\n",
    "    print(\"no\")\n"
   ]
  },
  {
   "cell_type": "code",
   "execution_count": 11,
   "id": "b1a83c3b",
   "metadata": {},
   "outputs": [
    {
     "data": {
      "text/plain": [
       "120"
      ]
     },
     "execution_count": 11,
     "metadata": {},
     "output_type": "execute_result"
    }
   ],
   "source": [
    "n=int(input())\n",
    "def factorial(n):\n",
    "    if n==0:\n",
    "        return 1\n",
    "    else:\n",
    "        return n*factorial(n-1)\n",
    "factorial(n)"
   ]
  },
  {
   "cell_type": "code",
   "execution_count": 12,
   "id": "978d9258",
   "metadata": {},
   "outputs": [],
   "source": [
    "num=int(input())\n",
    "if (num % 3==0 and num%5==0):\n",
    "    print(\"reward\")"
   ]
  },
  {
   "cell_type": "code",
   "execution_count": 13,
   "id": "70b6b638",
   "metadata": {},
   "outputs": [
    {
     "name": "stdout",
     "output_type": "stream",
     "text": [
      "prime\n"
     ]
    }
   ],
   "source": [
    "pm=int(input())\n",
    "c=0\n",
    "for i in range(1,pm+1):\n",
    "     if(pm%i==0):\n",
    "         c=c+1\n",
    "\n",
    "if c>2:\n",
    "     print(\" not prime\")\n",
    "else:\n",
    "     print(\"prime\")"
   ]
  },
  {
   "cell_type": "code",
   "execution_count": 15,
   "id": "3746911b",
   "metadata": {},
   "outputs": [
    {
     "name": "stdout",
     "output_type": "stream",
     "text": [
      "7\n"
     ]
    }
   ],
   "source": [
    "import numpy as np\n",
    "a=np.array(list(map(int,input().split())))\n",
    "# sa=np.sort(arr)\n",
    "fmax=a[0]\n",
    "smax=0\n",
    "for i in range(0,len(a)):\n",
    "    if a[i]>fmax:\n",
    "        smax=fmax\n",
    "        fmax=a[i]\n",
    "        \n",
    "    elif a[i]>smax & a[i] !=fmax:\n",
    "        smax=a[i]\n",
    "\n",
    "print(smax)"
   ]
  },
  {
   "cell_type": "code",
   "execution_count": 16,
   "id": "aa3a0750",
   "metadata": {},
   "outputs": [
    {
     "name": "stdout",
     "output_type": "stream",
     "text": [
      "650\n"
     ]
    }
   ],
   "source": [
    "sume=0\n",
    "for i in range(1 ,51):\n",
    "    if (i%2==0):\n",
    "        sume+=i\n",
    "\n",
    "print(sume)"
   ]
  },
  {
   "cell_type": "code",
   "execution_count": 17,
   "id": "5bdd6e14",
   "metadata": {},
   "outputs": [
    {
     "name": "stdout",
     "output_type": "stream",
     "text": [
      "4 4\n"
     ]
    }
   ],
   "source": [
    "str=input()\n",
    "up=0\n",
    "lo=0\n",
    "for a in str:\n",
    "    if a.isupper():\n",
    "        up+=1\n",
    "    elif a.islower():\n",
    "        lo+=1\n",
    "print(up,lo)"
   ]
  },
  {
   "cell_type": "code",
   "execution_count": null,
   "id": "c570a54c",
   "metadata": {},
   "outputs": [
    {
     "name": "stdout",
     "output_type": "stream",
     "text": [
      "0 1 1 2 3 5 "
     ]
    }
   ],
   "source": [
    "s1=0\n",
    "s2=1\n",
    "n=int(input())\n",
    "print(s1,s2,end=\" \")\n",
    "while(n>2):\n",
    "    s3=s1+s2\n",
    "    s1=s2\n",
    "    s2=s3\n",
    "    print(s3,end=\" \")\n",
    "    n=n-1;"
   ]
  },
  {
   "cell_type": "code",
   "execution_count": null,
   "id": "4d484055",
   "metadata": {},
   "outputs": [
    {
     "name": "stdout",
     "output_type": "stream",
     "text": [
      "anagarams\n"
     ]
    }
   ],
   "source": [
    "s1=input()\n",
    "s2=input()\n",
    "ss1=sorted(s1)\n",
    "ss2=sorted(s2)\n",
    "if(ss1==ss2):\n",
    "    print(\"anagarams\")\n",
    "else:\n",
    "    print(\"not\")"
   ]
  },
  {
   "cell_type": "code",
   "execution_count": null,
   "id": "0f28b7d3",
   "metadata": {},
   "outputs": [
    {
     "name": "stdout",
     "output_type": "stream",
     "text": [
      "1\n",
      "3\n",
      "6\n",
      "perfect\n"
     ]
    }
   ],
   "source": [
    "sof=int(input())\n",
    "c=0\n",
    "for i in range(1,sof):\n",
    "     if(sof%i==0):\n",
    "         c=c+i\n",
    "         print(c)\n",
    "if sof==c:\n",
    "     print(\"perfect\")\n",
    "else:\n",
    "     print(\"no\")"
   ]
  },
  {
   "cell_type": "code",
   "execution_count": null,
   "id": "fc494b7f",
   "metadata": {},
   "outputs": [
    {
     "name": "stdout",
     "output_type": "stream",
     "text": [
      "0\n"
     ]
    }
   ],
   "source": [
    "str1=input()\n",
    "nofw=0\n",
    "\n",
    "for i in str1:\n",
    "    if i==\" \" or i==\"\\n\":\n",
    "        nofw=nofw+1\n",
    "print(nofw)"
   ]
  },
  {
   "cell_type": "code",
   "execution_count": null,
   "id": "9458baf9",
   "metadata": {},
   "outputs": [
    {
     "name": "stdout",
     "output_type": "stream",
     "text": [
      "bill and Tip 450 22.5\n"
     ]
    }
   ],
   "source": [
    "bill=int(input())\n",
    "if bill<500:\n",
    "    tip=bill*(5/100)\n",
    "elif( bill > 500 & bill<1000):\n",
    "    tip=bill*(10/100)\n",
    "else:\n",
    "    tip=bill*(15/100)\n",
    "\n",
    "print(\"bill and Tip\",bill,tip)"
   ]
  },
  {
   "cell_type": "code",
   "execution_count": null,
   "id": "45c9bc4c",
   "metadata": {},
   "outputs": [
    {
     "data": {
      "text/plain": [
       "11500"
      ]
     },
     "execution_count": 19,
     "metadata": {},
     "output_type": "execute_result"
    }
   ],
   "source": [
    "period=int(input())\n",
    "def membership(period):\n",
    "    if period < 6:\n",
    "        return  period*500\n",
    "    elif period>=6 and period<12:\n",
    "        return 2700+membership(period-6)\n",
    "    elif( period >=12):\n",
    "        return 5000+membership(period-12)\n",
    "membership(period)    "
   ]
  },
  {
   "cell_type": "code",
   "execution_count": null,
   "id": "2ca4d006",
   "metadata": {},
   "outputs": [
    {
     "name": "stdout",
     "output_type": "stream",
     "text": [
      "not\n"
     ]
    }
   ],
   "source": [
    "totalc=int(input())\n",
    "classattended=int(input())\n",
    "percentage=(classattended/totalc)*100\n",
    "if percentage>=75:\n",
    "    print(\"eligible\")\n",
    "else:\n",
    "    print(\"not\")"
   ]
  },
  {
   "cell_type": "code",
   "execution_count": null,
   "id": "e2931f41",
   "metadata": {},
   "outputs": [
    {
     "name": "stdout",
     "output_type": "stream",
     "text": [
      "payment successfull\n"
     ]
    }
   ],
   "source": [
    "amount=int(input())\n",
    "def withdraw(amount):\n",
    "    if(amount%100==0):\n",
    "        print(\"payment successfull\")\n",
    "    else:\n",
    "        print(\"failed\")\n",
    "withdraw(amount)"
   ]
  },
  {
   "cell_type": "code",
   "execution_count": null,
   "id": "ada82587",
   "metadata": {},
   "outputs": [
    {
     "name": "stdout",
     "output_type": "stream",
     "text": [
      "Nice weather, go out!\n"
     ]
    }
   ],
   "source": [
    "temp=int(input(\"enter the temperature in degrees\"))\n",
    "if temp>=35:\n",
    "    print(\"Too hot, stay indoors!\")\n",
    "elif temp>20 and temp<35:\n",
    "    print(\"Nice weather, go out!\")\n",
    "else:\n",
    "    print(\"It’s cold, wear warm clothes!\")\n",
    "        "
   ]
  },
  {
   "cell_type": "code",
   "execution_count": null,
   "id": "83f5c16b",
   "metadata": {},
   "outputs": [
    {
     "name": "stdout",
     "output_type": "stream",
     "text": [
      "100\n"
     ]
    }
   ],
   "source": [
    "days=int(input())\n",
    "if days>=1 and days<=5:\n",
    "    fine = 10\n",
    "elif days>=6 and days<=10:  \n",
    "    fine=20\n",
    "elif days>10:\n",
    "    fine=100\n",
    "print(fine)\n"
   ]
  }
 ],
 "metadata": {
  "kernelspec": {
   "display_name": "Python 3",
   "language": "python",
   "name": "python3"
  },
  "language_info": {
   "codemirror_mode": {
    "name": "ipython",
    "version": 3
   },
   "file_extension": ".py",
   "mimetype": "text/x-python",
   "name": "python",
   "nbconvert_exporter": "python",
   "pygments_lexer": "ipython3",
   "version": "3.11.0"
  }
 },
 "nbformat": 4,
 "nbformat_minor": 5
}
