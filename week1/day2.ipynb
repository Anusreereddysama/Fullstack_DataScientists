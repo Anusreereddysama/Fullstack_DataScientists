{
 "cells": [
  {
   "cell_type": "code",
   "execution_count": 2,
   "id": "4cc2646d",
   "metadata": {},
   "outputs": [
    {
     "name": "stdout",
     "output_type": "stream",
     "text": [
      "Total bill= (50 * 2 ) + (30 * 5 ) + (20 * 3 ) =310\n"
     ]
    }
   ],
   "source": [
    "# 1.Scenario: A grocery shopkeeper wants to calculate the bill of 3 items. Prices and quantities should be stored in variables, and the program should display the total cost.\n",
    "# Sample Input:\n",
    "# Item1 Price: 50, Quantity: 2\n",
    "# Item2 Price: 30, Quantity: 5\n",
    "# Item3 Price: 20, Quantity: 3\n",
    "# Expected Output:\n",
    "# Total Bill = (50*2) + (30*5) + (20*3) = 100 + 150 + 60 = 310\n",
    "pl=[]\n",
    "ql=[]\n",
    "total=0\n",
    "for i in range(1,4):\n",
    "    pl.append(int(input(\"Item %d price:\"  %(i))))\n",
    "    ql.append(int(input(\"Quantity:\" )))\n",
    "for i in range(3):\n",
    "    total = total + pl[i]*ql[i]\n",
    "\n",
    "print(\"Total bill= (%d * %d ) + (%d * %d ) + (%d * %d ) =%d\" %(pl[0],ql[0], pl[1],ql[1] ,pl[2],ql[2],total))\n"
   ]
  },
  {
   "cell_type": "code",
   "execution_count": 3,
   "id": "a4a2c29e",
   "metadata": {},
   "outputs": [
    {
     "name": "stdout",
     "output_type": "stream",
     "text": [
      "Addition =  19\n",
      "Subtraction =  11\n",
      "Multiplication =  60\n",
      "Division =  3.75\n",
      "Modulus =  3\n"
     ]
    }
   ],
   "source": [
    "#2.Build a calculator that takes two numbers and performs addition, subtraction, multiplication, division, and modulus.\n",
    "# Sample Input:\n",
    "# Enter first number: 15\n",
    "# Enter second number: 4\n",
    "# Expected Output:\n",
    "# Addition = 19\n",
    "# Subtraction = 11\n",
    "# Multiplication = 60\n",
    "# Division = 3.75\n",
    "# Modulus = 3\n",
    "n1=int(input(\"enter first number\"))\n",
    "n2=int(input(\"enter second number\"))\n",
    "print(\"Addition = \",n1+n2)\n",
    "print(\"Subtraction = \",n1-n2)\n",
    "print(\"Multiplication = \",n1*n2)\n",
    "print(\"Division = \",n1/n2)\n",
    "print(\"Modulus = \",n1%n2)"
   ]
  },
  {
   "cell_type": "code",
   "execution_count": 4,
   "id": "e789ffe4",
   "metadata": {},
   "outputs": [
    {
     "name": "stdout",
     "output_type": "stream",
     "text": [
      "A\n"
     ]
    }
   ],
   "source": [
    "\n",
    "# 3.A teacher wants a grading system where marks are input, and the grade is displayed. \n",
    "# Sample Input:\n",
    "# Enter marks: 82\n",
    "# Expected Output:\n",
    "# Grade: A (Excellent)\n",
    "# (Rules: >=90 → A+, 80–89 → A, 70–79 → B, 60–69 → C, <60 → Fail)\n",
    " \n",
    "n=int(input(\"Enter marks:\"))\n",
    "if n>=90:\n",
    "    print(\"A+\")\n",
    "elif n<90  and n >=80:\n",
    "    print(\"A\")\n",
    "elif n<80 and n>=70:\n",
    "    print(\"B\")\n",
    "elif n<70  and n >=60:\n",
    "    print(\"C\")\n",
    "elif n<60:\n",
    "    print(\"Fail\")"
   ]
  },
  {
   "cell_type": "code",
   "execution_count": 5,
   "id": "47416a3f",
   "metadata": {},
   "outputs": [
    {
     "name": "stdout",
     "output_type": "stream",
     "text": [
      "Highest Marks = 90\n",
      "Lowest Marks = 45\n",
      "Average Marks = 71.4\n"
     ]
    }
   ],
   "source": [
    "#4.Student Marks List\n",
    "# Scenario: Store marks of 5 students in a list. Display the highest, lowest, and average marks.\n",
    "# Sample Input:\n",
    "# Marks: [45, 78, 88, 56, 90]\n",
    "# Expected Output: \n",
    "# Highest Marks = 90\n",
    "# Lowest Marks = 45\n",
    "# Average Marks = 71.4\n",
    "stl=list(map(int,input().split()))\n",
    "print(\"Highest Marks =\",max(stl))\n",
    "print(\"Lowest Marks =\",min(stl))\n",
    "print(\"Average Marks =\",sum(stl)/len(stl))"
   ]
  },
  {
   "cell_type": "code",
   "execution_count": 8,
   "id": "54765791",
   "metadata": {},
   "outputs": [
    {
     "name": "stdout",
     "output_type": "stream",
     "text": [
      "Phone Number of Ravi is 8786343626\n"
     ]
    }
   ],
   "source": [
    "# 5 .Create a phonebook using a dictionary where names are keys and numbers are values. Allow searching for a number by name.\n",
    "# Sample Input:\n",
    "# PHonebook = {\"Suhel\": 9876543210, \"Ravi\": 9123456780, \"Anita\": 9988776655}\n",
    "# Search Name: Ravi\n",
    "# Expected Output:\n",
    "# Phone Number of Ravi: 9123456780\n",
    "Phonebook={'Suhel':9858673435,'Ravi':8786343626,'Anita':6309824536}\n",
    "str=input(\"Search name:\")\n",
    "print(\"Phone Number of %s is %s\" %(str,Phonebook[str]))"
   ]
  },
  {
   "cell_type": "code",
   "execution_count": 13,
   "id": "118ab581",
   "metadata": {},
   "outputs": [
    {
     "name": "stdout",
     "output_type": "stream",
     "text": [
      "Total Words =  2\n",
      "Total Characters =  8\n",
      "Total Vowels =  3\n"
     ]
    }
   ],
   "source": [
    "# 6.Write a program to count the number of words, characters, and vowels in a sentence. \n",
    "# Sample Input:\n",
    "# Enter sentence: \"Python is awesome\" \n",
    "# Expected Output:\n",
    "# Total Words = 3\n",
    "# Total Characters = 16\n",
    "# Total Vowels = 6\n",
    "str6=input(\"Enter sentence:\")\n",
    "str9=str6.split()\n",
    "vv=0\n",
    "vw=0\n",
    "vc=0\n",
    "for i in str6:\n",
    "    if(i=='a' or i=='e' or i=='o' or i=='u' or i=='i'):\n",
    "        vv=vv+1\n",
    "        vc=vc+1\n",
    "    else:\n",
    "        vc=vc+1\n",
    "\n",
    "print(\"Total Words = \",len(str9))\n",
    "print(\"Total Characters = \",vc)\n",
    "print(\"Total Vowels = \",vv)"
   ]
  },
  {
   "cell_type": "code",
   "execution_count": 20,
   "id": "e7853a0b",
   "metadata": {},
   "outputs": [
    {
     "name": "stdout",
     "output_type": "stream",
     "text": [
      "Compound Intrest = 512.5\n",
      "Total 5512.5\n"
     ]
    }
   ],
   "source": [
    "# 7 A bank provides simple interest and compound interest. A user inputs principal, rate, time, and type of interest. Program should calculate accordingly.\n",
    "# Sample Input: \n",
    "# Principal = 5000\n",
    "# Rate = 5\n",
    "# Time = 2\n",
    "# Interest Type = Compound\n",
    "# Expected Output:\n",
    "# Compound Interest = 512.50\n",
    "# Total Amount = 5512.50\n",
    "p=int(input())\n",
    "t=int(input())\n",
    "r=int(input())\n",
    "it=input()\n",
    "if it.lower()== \"compound\":\n",
    "    total=p*((1+(r/100))**t)\n",
    "    print(\"Compound Intrest =\" ,total-p)\n",
    "elif it.lower()=='simple':\n",
    "    total=(p*t*r)/100\n",
    "    print(\" Simple Intrest =\" ,total-p)\n",
    "print(\"Total\",total)\n"
   ]
  },
  {
   "cell_type": "code",
   "execution_count": null,
   "id": "376cfac2",
   "metadata": {},
   "outputs": [],
   "source": []
  },
  {
   "cell_type": "code",
   "execution_count": null,
   "id": "d286684e",
   "metadata": {},
   "outputs": [],
   "source": [
    "# 8 Implement a Caesar Cipher encryption. User inputs a message and a shift key. Program outputs the encrypted text using operators.\n",
    "# Sample Input:\n",
    "# Message = \"HELLO\"\n",
    "# Shift = 3\n",
    "# Expected Output:\n",
    "# Encrypted Message: KHOOR\n",
    "char=input()\n",
    "shift=int(input())\n",
    "ffor i in char:\n",
    "    if (ord(i)>\n",
    "='A' and ord(i)<='Z'):\n",
    "        print(chr((ord(i)+shift-65)%26+65),end=\"\")"
   ]
  },
  {
   "cell_type": "code",
   "execution_count": null,
   "id": "84a3af81",
   "metadata": {},
   "outputs": [],
   "source": []
  }
 ],
 "metadata": {
  "kernelspec": {
   "display_name": "Python 3",
   "language": "python",
   "name": "python3"
  },
  "language_info": {
   "codemirror_mode": {
    "name": "ipython",
    "version": 3
   },
   "file_extension": ".py",
   "mimetype": "text/x-python",
   "name": "python",
   "nbconvert_exporter": "python",
   "pygments_lexer": "ipython3",
   "version": "3.11.13"
  }
 },
 "nbformat": 4,
 "nbformat_minor": 5
}
